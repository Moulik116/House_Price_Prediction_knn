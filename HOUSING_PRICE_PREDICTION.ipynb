{
 "cells": [
  {
   "cell_type": "code",
   "execution_count": null,
   "id": "55ff5132-7e43-4ac6-9b63-83bbcd599b2d",
   "metadata": {},
   "outputs": [
    {
     "name": "stdout",
     "output_type": "stream",
     "text": [
      "   longitude  latitude  housing_median_age  total_rooms  total_bedrooms  \\\n",
      "0    -122.23     37.88                41.0        880.0           129.0   \n",
      "1    -122.22     37.86                21.0       7099.0          1106.0   \n",
      "2    -122.24     37.85                52.0       1467.0           190.0   \n",
      "3    -122.25     37.85                52.0       1274.0           235.0   \n",
      "4    -122.25     37.85                52.0       1627.0           280.0   \n",
      "\n",
      "   population  households  median_income  median_house_value  \\\n",
      "0       322.0       126.0         8.3252            452600.0   \n",
      "1      2401.0      1138.0         8.3014            358500.0   \n",
      "2       496.0       177.0         7.2574            352100.0   \n",
      "3       558.0       219.0         5.6431            341300.0   \n",
      "4       565.0       259.0         3.8462            342200.0   \n",
      "\n",
      "   ocean_proximity_INLAND  ocean_proximity_ISLAND  ocean_proximity_NEAR BAY  \\\n",
      "0                   False                   False                      True   \n",
      "1                   False                   False                      True   \n",
      "2                   False                   False                      True   \n",
      "3                   False                   False                      True   \n",
      "4                   False                   False                      True   \n",
      "\n",
      "   ocean_proximity_NEAR OCEAN  \n",
      "0                       False  \n",
      "1                       False  \n",
      "2                       False  \n",
      "3                       False  \n",
      "4                       False  \n",
      " Total Samples : 20640\n",
      " KNN Regression (Euclidean Distance) Results:\n",
      " MAE: 45536.20\n",
      " RMSE: 65787.27\n"
     ]
    }
   ],
   "source": [
    "import numpy as np\n",
    "import pandas as pd\n",
    "import matplotlib.pyplot as plt\n",
    "import seaborn as sns\n",
    "from sklearn.model_selection import train_test_split\n",
    "from sklearn.preprocessing import StandardScaler, OneHotEncoder\n",
    "from sklearn.neighbors import KNeighborsRegressor\n",
    "from sklearn.metrics import mean_absolute_error, mean_squared_error\n",
    "\n",
    "# Load California Housing Dataset\n",
    "df = pd.read_csv(r\"file.csv\")\n",
    "\n",
    "# Fill missing values with median\n",
    "df.fillna(df.median(numeric_only=True), inplace=True)\n",
    "\n",
    "# One-Hot Encoding for categorical feature (ocean_proximity)\n",
    "df = pd.get_dummies(df, columns=[\"ocean_proximity\"], drop_first=True)\n",
    "\n",
    "print(df.head())\n",
    "\n",
    "print(f\" Total Samples : {len(df)}\")\n",
    "\n",
    "# Extract features & target variable\n",
    "X = df.drop(\"median_house_value\", axis=1)\n",
    "y = df[\"median_house_value\"]\n",
    "\n",
    "# Feature Scaling (Standardization)\n",
    "scaler = StandardScaler()\n",
    "X_scaled = scaler.fit_transform(X)\n",
    "\n",
    "# Split dataset (80% training, 20% testing)\n",
    "X_train, X_test, y_train, y_test = train_test_split(X_scaled, y, test_size=0.2, random_state=42)\n",
    "\n",
    "# Train KNN Model using Euclidean Distance\n",
    "knn = KNeighborsRegressor(n_neighbors=100, metric=\"euclidean\")\n",
    "knn.fit(X_train, y_train)\n",
    "\n",
    "# Predictions\n",
    "y_pred = knn.predict(X_test)\n",
    "\n",
    "# Evaluate Model\n",
    "mae = mean_absolute_error(y_test, y_pred)\n",
    "rmse = np.sqrt(mean_squared_error(y_test, y_pred))\n",
    "\n",
    "print(\" KNN Regression (Euclidean Distance) Results:\")\n",
    "print(f\" MAE: {mae:.2f}\")\n",
    "print(f\" RMSE: {rmse:.2f}\")\n"
   ]
  },
  {
   "cell_type": "code",
   "execution_count": null,
   "id": "2c95c87c-c8b0-489a-b3b7-e76ddc5e1bcf",
   "metadata": {},
   "outputs": [],
   "source": []
  }
 ],
 "metadata": {
  "kernelspec": {
   "display_name": "Python 3 (ipykernel)",
   "language": "python",
   "name": "python3"
  },
  "language_info": {
   "codemirror_mode": {
    "name": "ipython",
    "version": 3
   },
   "file_extension": ".py",
   "mimetype": "text/x-python",
   "name": "python",
   "nbconvert_exporter": "python",
   "pygments_lexer": "ipython3",
   "version": "3.9.21"
  }
 },
 "nbformat": 4,
 "nbformat_minor": 5
}
